{
 "cells": [
  {
   "cell_type": "code",
   "execution_count": 6,
   "outputs": [],
   "source": [
    "import pandas as pd\n",
    "import matplotlib.pyplot as plt\n",
    "import numpy as np"
   ],
   "metadata": {
    "collapsed": false
   }
  },
  {
   "cell_type": "code",
   "execution_count": 7,
   "outputs": [],
   "source": [
    "# import Res-IRF\n",
    "from project.thermal import conventional_heating_final, conventional_energy_3uses, conventional_dhw_final, conventional_heating_need"
   ],
   "metadata": {
    "collapsed": false
   }
  },
  {
   "cell_type": "markdown",
   "source": [
    "# Export from ADEME DPE Database"
   ],
   "metadata": {
    "collapsed": false
   }
  },
  {
   "cell_type": "code",
   "execution_count": 8,
   "outputs": [
    {
     "name": "stdout",
     "output_type": "stream",
     "text": [
      "1532140\n",
      "1448763\n",
      "<class 'pandas.core.frame.DataFrame'>\n",
      "Int64Index: 1448763 entries, 35 to 5419824\n",
      "Data columns (total 26 columns):\n",
      " #   Column                            Non-Null Count    Dtype   \n",
      "---  ------                            --------------    -----   \n",
      " 0   td001_dpe_id                      1448763 non-null  int64   \n",
      " 1   construction_year_class           1448763 non-null  category\n",
      " 2   residential_type                  1448763 non-null  category\n",
      " 3   wall_u_value                      1448763 non-null  category\n",
      " 4   roof_u_value                      1448763 non-null  category\n",
      " 5   floor_u_value                     1448763 non-null  category\n",
      " 6   wall_window_share                 1448763 non-null  category\n",
      " 7   wall_window_u_value               1448763 non-null  category\n",
      " 8   wall_window_solar_factor          1448763 non-null  category\n",
      " 9   roof_window_share                 1448763 non-null  category\n",
      " 10  roof_window_u_value               1448763 non-null  category\n",
      " 11  roof_window_solar_factor          1448763 non-null  category\n",
      " 12  main_heating_system_efficiency    1448763 non-null  category\n",
      " 13  main_heating_energy               1448763 non-null  category\n",
      " 14  backup_heating_system_efficiency  1448763 non-null  category\n",
      " 15  air_change_rate                   1448763 non-null  category\n",
      " 16  backup_heating_energy             1448763 non-null  category\n",
      " 17  backup_heating_share              1448763 non-null  category\n",
      " 18  dhw_energy                        1448763 non-null  object  \n",
      " 19  district                          1448763 non-null  category\n",
      " 20  heating_system                    1448763 non-null  category\n",
      " 21  city                              1448763 non-null  category\n",
      " 22  city_name                         1448763 non-null  category\n",
      " 23  department                        1448763 non-null  category\n",
      " 24  city_group                        1404006 non-null  category\n",
      " 25  region                            1448763 non-null  category\n",
      "dtypes: category(24), int64(1), object(1)\n",
      "memory usage: 78.4+ MB\n"
     ]
    }
   ],
   "source": [
    "df = pd.read_hdf('input/district_level_diagnosis_data_latest.hdf')\n",
    "df.set_index('td001_dpe_id', drop=False, inplace=True)\n",
    "print(df.shape[0])\n",
    "df.drop_duplicates('td001_dpe_id', inplace=True)\n",
    "print(df.shape[0])\n",
    "df.info()"
   ],
   "metadata": {
    "collapsed": false
   }
  },
  {
   "cell_type": "code",
   "execution_count": 10,
   "outputs": [],
   "source": [
    "astype = {\n",
    "    'wall_u_value': 'float',\n",
    "    'roof_u_value': 'float',\n",
    "    'floor_u_value': 'float',\n",
    "    'wall_window_u_value': 'float',\n",
    "    'main_heating_system_efficiency': 'float',\n",
    "    'heating_system': 'string'\n",
    "}\n",
    "\n",
    "df = df.astype(astype)\n",
    "\n",
    "heating_system = ['electric heater', 'electric heat pump', 'fossil gas boiler', 'oil boiler', 'biomass/coal boiler']\n",
    "df = df.loc[df['heating_system'].isin(heating_system), :]\n",
    "\n",
    "replace = {'[1991, 2005]': '[1991, 2005]',\n",
    "           '[1971, 1990]': '[1971, 1990]',\n",
    "           '[1946, 1970]': '[1000, 1970]',\n",
    "          '[1000, 1918]': '[1000, 1970]',\n",
    "          '[2006, 2100]': '[2006, 2100]',\n",
    "          '[1919, 1945]': '[1000, 1970]'\n",
    "}\n",
    "\n",
    "df['construction_period'] = df['construction_year_class'].replace(replace)"
   ],
   "metadata": {
    "collapsed": false
   }
  },
  {
   "cell_type": "markdown",
   "source": [
    "## Finding U values cluster\n",
    "U values are continuous variables.\n",
    "How to group U values to simplify information ?"
   ],
   "metadata": {
    "collapsed": false
   }
  },
  {
   "cell_type": "code",
   "execution_count": 11,
   "outputs": [],
   "source": [
    "def replace_closest(data, list_values):\n",
    "    temp = pd.Series(list_values.values, list_values.values).reindex(data.values, method='nearest')\n",
    "    temp.index = data.index\n",
    "    return temp\n",
    "\n",
    "\n",
    "list_values = {'Wall': pd.Series([2.5, 1, 0.5, 0.4, 0.2, 0.1]),\n",
    "               'Roof': pd.Series([2.5, 0.5, 0.3, 0.2, 0.1]),\n",
    "               'Windows': pd.Series([4.3, 3, 2.6, 1.6, 1.3, 0.8]),\n",
    "               'Floor': pd.Series([2, 0.9, 0.5, 0.3, 0.2])\n",
    "               }\n"
   ],
   "metadata": {
    "collapsed": false
   }
  },
  {
   "cell_type": "markdown",
   "source": [
    "### Walls"
   ],
   "metadata": {
    "collapsed": false
   }
  },
  {
   "cell_type": "code",
   "execution_count": 12,
   "outputs": [
    {
     "data": {
      "text/plain": "0.39    0.333993\n2.00    0.323103\n0.26    0.090734\n0.56    0.071710\n0.78    0.071666\n1.03    0.069634\n1.64    0.039160\nName: wall_u_value, dtype: float64"
     },
     "execution_count": 12,
     "metadata": {},
     "output_type": "execute_result"
    }
   ],
   "source": [
    "df['wall_u_value'].value_counts() / df['wall_u_value'].value_counts().sum()"
   ],
   "metadata": {
    "collapsed": false
   }
  },
  {
   "cell_type": "code",
   "execution_count": 13,
   "outputs": [],
   "source": [
    "df['wall_u_value'] = replace_closest(df['wall_u_value'], list_values['Wall'])"
   ],
   "metadata": {
    "collapsed": false
   }
  },
  {
   "cell_type": "code",
   "execution_count": 14,
   "outputs": [
    {
     "data": {
      "text/plain": "wall_u_value              2.5       1.0       0.5       0.4       0.2\nconstruction_period                                                  \n[1000, 1970]         0.546515  0.179483  0.049925  0.166969  0.057108\n[1971, 1990]         0.244623  0.314971  0.106483  0.252400  0.081524\n[1991, 2005]         0.096844  0.013788  0.095274  0.713320  0.080774\n[2006, 2100]         0.088828  0.008589  0.014838  0.645753  0.241992",
      "text/html": "<div>\n<style scoped>\n    .dataframe tbody tr th:only-of-type {\n        vertical-align: middle;\n    }\n\n    .dataframe tbody tr th {\n        vertical-align: top;\n    }\n\n    .dataframe thead th {\n        text-align: right;\n    }\n</style>\n<table border=\"1\" class=\"dataframe\">\n  <thead>\n    <tr style=\"text-align: right;\">\n      <th>wall_u_value</th>\n      <th>2.5</th>\n      <th>1.0</th>\n      <th>0.5</th>\n      <th>0.4</th>\n      <th>0.2</th>\n    </tr>\n    <tr>\n      <th>construction_period</th>\n      <th></th>\n      <th></th>\n      <th></th>\n      <th></th>\n      <th></th>\n    </tr>\n  </thead>\n  <tbody>\n    <tr>\n      <th>[1000, 1970]</th>\n      <td>0.546515</td>\n      <td>0.179483</td>\n      <td>0.049925</td>\n      <td>0.166969</td>\n      <td>0.057108</td>\n    </tr>\n    <tr>\n      <th>[1971, 1990]</th>\n      <td>0.244623</td>\n      <td>0.314971</td>\n      <td>0.106483</td>\n      <td>0.252400</td>\n      <td>0.081524</td>\n    </tr>\n    <tr>\n      <th>[1991, 2005]</th>\n      <td>0.096844</td>\n      <td>0.013788</td>\n      <td>0.095274</td>\n      <td>0.713320</td>\n      <td>0.080774</td>\n    </tr>\n    <tr>\n      <th>[2006, 2100]</th>\n      <td>0.088828</td>\n      <td>0.008589</td>\n      <td>0.014838</td>\n      <td>0.645753</td>\n      <td>0.241992</td>\n    </tr>\n  </tbody>\n</table>\n</div>"
     },
     "execution_count": 14,
     "metadata": {},
     "output_type": "execute_result"
    }
   ],
   "source": [
    "temp = df.groupby('construction_period')['wall_u_value'].value_counts().unstack('wall_u_value')\n",
    "(temp.T / temp.sum(axis=1)).T.sort_index(axis=1, ascending=False)"
   ],
   "metadata": {
    "collapsed": false
   }
  },
  {
   "cell_type": "code",
   "execution_count": 15,
   "outputs": [
    {
     "data": {
      "text/plain": "0.17    400675\n0.29    334135\n2.00    282518\n0.54    130260\n1.23     46854\nName: roof_u_value, dtype: int64"
     },
     "execution_count": 15,
     "metadata": {},
     "output_type": "execute_result"
    }
   ],
   "source": [
    "df['roof_u_value'].value_counts()"
   ],
   "metadata": {
    "collapsed": false
   }
  },
  {
   "cell_type": "code",
   "execution_count": 16,
   "outputs": [],
   "source": [
    "df['roof_u_value'] = replace_closest(df['roof_u_value'], list_values['Roof'])"
   ],
   "metadata": {
    "collapsed": false
   }
  },
  {
   "cell_type": "code",
   "execution_count": 17,
   "outputs": [
    {
     "data": {
      "text/plain": "roof_u_value              2.5       0.5       0.3       0.2\nconstruction_period                                        \n[1000, 1970]         0.356608  0.188836  0.186651  0.267904\n[1971, 1990]         0.183915  0.199224  0.323887  0.292974\n[1991, 2005]         0.129602  0.031373  0.495806  0.343219\n[2006, 2100]         0.121957  0.014639  0.190472  0.672932",
      "text/html": "<div>\n<style scoped>\n    .dataframe tbody tr th:only-of-type {\n        vertical-align: middle;\n    }\n\n    .dataframe tbody tr th {\n        vertical-align: top;\n    }\n\n    .dataframe thead th {\n        text-align: right;\n    }\n</style>\n<table border=\"1\" class=\"dataframe\">\n  <thead>\n    <tr style=\"text-align: right;\">\n      <th>roof_u_value</th>\n      <th>2.5</th>\n      <th>0.5</th>\n      <th>0.3</th>\n      <th>0.2</th>\n    </tr>\n    <tr>\n      <th>construction_period</th>\n      <th></th>\n      <th></th>\n      <th></th>\n      <th></th>\n    </tr>\n  </thead>\n  <tbody>\n    <tr>\n      <th>[1000, 1970]</th>\n      <td>0.356608</td>\n      <td>0.188836</td>\n      <td>0.186651</td>\n      <td>0.267904</td>\n    </tr>\n    <tr>\n      <th>[1971, 1990]</th>\n      <td>0.183915</td>\n      <td>0.199224</td>\n      <td>0.323887</td>\n      <td>0.292974</td>\n    </tr>\n    <tr>\n      <th>[1991, 2005]</th>\n      <td>0.129602</td>\n      <td>0.031373</td>\n      <td>0.495806</td>\n      <td>0.343219</td>\n    </tr>\n    <tr>\n      <th>[2006, 2100]</th>\n      <td>0.121957</td>\n      <td>0.014639</td>\n      <td>0.190472</td>\n      <td>0.672932</td>\n    </tr>\n  </tbody>\n</table>\n</div>"
     },
     "execution_count": 17,
     "metadata": {},
     "output_type": "execute_result"
    }
   ],
   "source": [
    "temp = df.groupby('construction_period')['roof_u_value'].value_counts().unstack('roof_u_value')\n",
    "(temp.T / temp.sum(axis=1)).T.sort_index(axis=1, ascending=False)"
   ],
   "metadata": {
    "collapsed": false
   }
  },
  {
   "cell_type": "code",
   "execution_count": 18,
   "outputs": [
    {
     "data": {
      "text/plain": "2.00    399099\n0.37    318692\n0.26    216868\n0.60    128733\n0.91    100518\n1.53     30532\nName: floor_u_value, dtype: int64"
     },
     "execution_count": 18,
     "metadata": {},
     "output_type": "execute_result"
    }
   ],
   "source": [
    "df['floor_u_value'].value_counts()"
   ],
   "metadata": {
    "collapsed": false
   }
  },
  {
   "cell_type": "code",
   "execution_count": 19,
   "outputs": [],
   "source": [
    "df['floor_u_value'] = replace_closest(df['floor_u_value'], list_values['Floor'])"
   ],
   "metadata": {
    "collapsed": false
   }
  },
  {
   "cell_type": "code",
   "execution_count": 20,
   "outputs": [
    {
     "data": {
      "text/plain": "floor_u_value             2.0       0.9       0.5       0.3\nconstruction_period                                        \n[1000, 1970]         0.563327  0.079423  0.034452  0.322798\n[1971, 1990]         0.300187  0.149617  0.176047  0.374149\n[1991, 2005]         0.145157  0.008596  0.214750  0.631497\n[2006, 2100]         0.122149  0.007688  0.021306  0.848857",
      "text/html": "<div>\n<style scoped>\n    .dataframe tbody tr th:only-of-type {\n        vertical-align: middle;\n    }\n\n    .dataframe tbody tr th {\n        vertical-align: top;\n    }\n\n    .dataframe thead th {\n        text-align: right;\n    }\n</style>\n<table border=\"1\" class=\"dataframe\">\n  <thead>\n    <tr style=\"text-align: right;\">\n      <th>floor_u_value</th>\n      <th>2.0</th>\n      <th>0.9</th>\n      <th>0.5</th>\n      <th>0.3</th>\n    </tr>\n    <tr>\n      <th>construction_period</th>\n      <th></th>\n      <th></th>\n      <th></th>\n      <th></th>\n    </tr>\n  </thead>\n  <tbody>\n    <tr>\n      <th>[1000, 1970]</th>\n      <td>0.563327</td>\n      <td>0.079423</td>\n      <td>0.034452</td>\n      <td>0.322798</td>\n    </tr>\n    <tr>\n      <th>[1971, 1990]</th>\n      <td>0.300187</td>\n      <td>0.149617</td>\n      <td>0.176047</td>\n      <td>0.374149</td>\n    </tr>\n    <tr>\n      <th>[1991, 2005]</th>\n      <td>0.145157</td>\n      <td>0.008596</td>\n      <td>0.214750</td>\n      <td>0.631497</td>\n    </tr>\n    <tr>\n      <th>[2006, 2100]</th>\n      <td>0.122149</td>\n      <td>0.007688</td>\n      <td>0.021306</td>\n      <td>0.848857</td>\n    </tr>\n  </tbody>\n</table>\n</div>"
     },
     "execution_count": 20,
     "metadata": {},
     "output_type": "execute_result"
    }
   ],
   "source": [
    "temp = df.groupby('construction_period')['floor_u_value'].value_counts().unstack('floor_u_value')\n",
    "(temp.T / temp.sum(axis=1)).T.sort_index(axis=1, ascending=False)"
   ],
   "metadata": {
    "collapsed": false
   }
  },
  {
   "cell_type": "code",
   "execution_count": 21,
   "outputs": [
    {
     "data": {
      "text/plain": "2.18    465727\n2.65    363496\n3.20    138743\n3.75     94992\n1.30     69935\n4.61     61549\nName: wall_window_u_value, dtype: int64"
     },
     "execution_count": 21,
     "metadata": {},
     "output_type": "execute_result"
    }
   ],
   "source": [
    "df['wall_window_u_value'].value_counts()"
   ],
   "metadata": {
    "collapsed": false
   }
  },
  {
   "cell_type": "code",
   "execution_count": 22,
   "outputs": [],
   "source": [
    "df['wall_window_u_value'] = replace_closest(df['wall_window_u_value'], list_values['Windows'])"
   ],
   "metadata": {
    "collapsed": false
   }
  },
  {
   "cell_type": "code",
   "execution_count": 23,
   "outputs": [
    {
     "data": {
      "text/plain": "wall_window_u_value       4.3       3.0       2.6       1.3\nconstruction_period                                        \n[1000, 1970]         0.183940  0.118451  0.637818  0.059792\n[1971, 1990]         0.150371  0.152529  0.645273  0.051826\n[1991, 2005]         0.039044  0.082551  0.848591  0.029814\n[2006, 2100]         0.015533  0.046648  0.827770  0.110049",
      "text/html": "<div>\n<style scoped>\n    .dataframe tbody tr th:only-of-type {\n        vertical-align: middle;\n    }\n\n    .dataframe tbody tr th {\n        vertical-align: top;\n    }\n\n    .dataframe thead th {\n        text-align: right;\n    }\n</style>\n<table border=\"1\" class=\"dataframe\">\n  <thead>\n    <tr style=\"text-align: right;\">\n      <th>wall_window_u_value</th>\n      <th>4.3</th>\n      <th>3.0</th>\n      <th>2.6</th>\n      <th>1.3</th>\n    </tr>\n    <tr>\n      <th>construction_period</th>\n      <th></th>\n      <th></th>\n      <th></th>\n      <th></th>\n    </tr>\n  </thead>\n  <tbody>\n    <tr>\n      <th>[1000, 1970]</th>\n      <td>0.183940</td>\n      <td>0.118451</td>\n      <td>0.637818</td>\n      <td>0.059792</td>\n    </tr>\n    <tr>\n      <th>[1971, 1990]</th>\n      <td>0.150371</td>\n      <td>0.152529</td>\n      <td>0.645273</td>\n      <td>0.051826</td>\n    </tr>\n    <tr>\n      <th>[1991, 2005]</th>\n      <td>0.039044</td>\n      <td>0.082551</td>\n      <td>0.848591</td>\n      <td>0.029814</td>\n    </tr>\n    <tr>\n      <th>[2006, 2100]</th>\n      <td>0.015533</td>\n      <td>0.046648</td>\n      <td>0.827770</td>\n      <td>0.110049</td>\n    </tr>\n  </tbody>\n</table>\n</div>"
     },
     "execution_count": 23,
     "metadata": {},
     "output_type": "execute_result"
    }
   ],
   "source": [
    "temp = df.groupby('construction_period')['wall_window_u_value'].value_counts().unstack('wall_window_u_value')\n",
    "(temp.T / temp.sum(axis=1)).T.sort_index(axis=1, ascending=False)"
   ],
   "metadata": {
    "collapsed": false
   }
  },
  {
   "cell_type": "markdown",
   "source": [
    "## Heating system"
   ],
   "metadata": {
    "collapsed": false
   }
  },
  {
   "cell_type": "code",
   "execution_count": 24,
   "outputs": [],
   "source": [
    "df['main_heating_system_efficiency_round'] = df['main_heating_system_efficiency'].copy()\n",
    "\n",
    "# direct electric\n",
    "idx = df[df['heating_system'] == 'electric heater'].index\n",
    "df.loc[idx, 'main_heating_system_efficiency_round'] = 0.95\n",
    "\n",
    "# fossil boiler\n",
    "efficiency = pd.Series([0.6, 0.76])\n",
    "idx = df[df['heating_system'].isin(['fossil gas boiler', 'oil boiler', 'biomass/coal boiler'])].index\n",
    "temp = pd.Series(efficiency.values, efficiency.values).reindex(df.loc[idx, 'main_heating_system_efficiency'].values, method='nearest')\n",
    "temp.index = idx\n",
    "df.loc[idx, 'main_heating_system_efficiency_round'] = temp\n",
    "\n",
    "# heat pump\n",
    "idx = df[df['heating_system'] == 'electric heat pump'].index\n",
    "df.loc[idx, 'main_heating_system_efficiency_round'] = 2.5\n"
   ],
   "metadata": {
    "collapsed": false
   }
  },
  {
   "cell_type": "markdown",
   "source": [
    "### Ventilation system"
   ],
   "metadata": {
    "collapsed": false
   }
  },
  {
   "cell_type": "code",
   "execution_count": 25,
   "outputs": [
    {
     "name": "stderr",
     "output_type": "stream",
     "text": [
      "/Users/lucas/opt/anaconda3/envs/APIData/lib/python3.8/site-packages/IPython/lib/pretty.py:778: FutureWarning: Index.ravel returning ndarray is deprecated; in a future version this will return a view on self.\n",
      "  output = repr(obj)\n"
     ]
    },
    {
     "data": {
      "text/plain": "[0.49, 0.85, 0.66, 0.43, 0.60, 0.76]\nCategories (6, float64): [0.43, 0.49, 0.60, 0.66, 0.76, 0.85]"
     },
     "execution_count": 25,
     "metadata": {},
     "output_type": "execute_result"
    }
   ],
   "source": [
    "df['air_change_rate'].unique()"
   ],
   "metadata": {
    "collapsed": false
   }
  },
  {
   "cell_type": "markdown",
   "source": [
    "# Calculating energy consumption and DPE based on Res-IRF thermal function"
   ],
   "metadata": {
    "collapsed": false
   }
  },
  {
   "cell_type": "code",
   "execution_count": 26,
   "outputs": [
    {
     "data": {
      "text/plain": "               Roof  Windows  Wall  Floor\nHousing type                             \nSingle-family  0.77     0.17  1.42   0.75\nMulti-family   0.29     0.19  0.78   0.28",
      "text/html": "<div>\n<style scoped>\n    .dataframe tbody tr th:only-of-type {\n        vertical-align: middle;\n    }\n\n    .dataframe tbody tr th {\n        vertical-align: top;\n    }\n\n    .dataframe thead th {\n        text-align: right;\n    }\n</style>\n<table border=\"1\" class=\"dataframe\">\n  <thead>\n    <tr style=\"text-align: right;\">\n      <th></th>\n      <th>Roof</th>\n      <th>Windows</th>\n      <th>Wall</th>\n      <th>Floor</th>\n    </tr>\n    <tr>\n      <th>Housing type</th>\n      <th></th>\n      <th></th>\n      <th></th>\n      <th></th>\n    </tr>\n  </thead>\n  <tbody>\n    <tr>\n      <th>Single-family</th>\n      <td>0.77</td>\n      <td>0.17</td>\n      <td>1.42</td>\n      <td>0.75</td>\n    </tr>\n    <tr>\n      <th>Multi-family</th>\n      <td>0.29</td>\n      <td>0.19</td>\n      <td>0.78</td>\n      <td>0.28</td>\n    </tr>\n  </tbody>\n</table>\n</div>"
     },
     "execution_count": 26,
     "metadata": {},
     "output_type": "execute_result"
    }
   ],
   "source": [
    "ratio_surface = {'Roof': [0.77, 0.29],\n",
    "                 'Windows': [0.17, 0.19],\n",
    "                 'Wall': [1.42, 0.78],\n",
    "                 'Floor': [0.75, 0.28]\n",
    "                 }\n",
    "\n",
    "ratio_surface = pd.DataFrame(ratio_surface, index=pd.Index(['Single-family', 'Multi-family'], name='Housing type'))\n",
    "ratio_surface"
   ],
   "metadata": {
    "collapsed": false
   }
  },
  {
   "cell_type": "code",
   "execution_count": 27,
   "outputs": [],
   "source": [
    "idx = df[df['residential_type'] == 'apartment'].index\n",
    "df_single = df.loc[idx, :]"
   ],
   "metadata": {
    "collapsed": false
   }
  },
  {
   "cell_type": "code",
   "execution_count": 28,
   "outputs": [
    {
     "data": {
      "text/plain": "                                                          Wall  Floor  Roof  \\\nHousing type  Energy      Heating system                                      \nSingle-family Electricity Electricity-Performance boiler   0.4    0.3   0.2   \n                          Electricity-Performance boiler   0.2    0.9   0.2   \n                          Electricity-Performance boiler   0.4    0.3   0.3   \nMulti-family  Electricity Electricity-Performance boiler   0.5    0.3   2.5   \n              Natural gas Natural gas-Standard boiler      2.5    0.3   2.5   \n...                                                        ...    ...   ...   \n                          Natural gas-Performance boiler   1.0    0.5   0.5   \n                          Natural gas-Performance boiler   2.5    0.5   0.5   \nSingle-family Natural gas Natural gas-Standard boiler      2.5    2.0   0.3   \n              Electricity Electricity-Performance boiler   0.4    0.3   0.2   \nMulti-family  Electricity Electricity-Performance boiler   0.4    2.0   2.5   \n\n                                                          Windows  Efficiency  \\\nHousing type  Energy      Heating system                                        \nSingle-family Electricity Electricity-Performance boiler      2.6        0.95   \n                          Electricity-Performance boiler      2.6        0.95   \n                          Electricity-Performance boiler      2.6        0.95   \nMulti-family  Electricity Electricity-Performance boiler      2.6        0.95   \n              Natural gas Natural gas-Standard boiler         3.0        0.60   \n...                                                           ...         ...   \n                          Natural gas-Performance boiler      2.6        0.76   \n                          Natural gas-Performance boiler      2.6        0.76   \nSingle-family Natural gas Natural gas-Standard boiler         2.6        0.60   \n              Electricity Electricity-Performance boiler      2.6        0.95   \nMulti-family  Electricity Electricity-Performance boiler      2.6        0.95   \n\n                                                                Period  \\\nHousing type  Energy      Heating system                                 \nSingle-family Electricity Electricity-Performance boiler  [1991, 2005]   \n                          Electricity-Performance boiler  [1971, 1990]   \n                          Electricity-Performance boiler  [1991, 2005]   \nMulti-family  Electricity Electricity-Performance boiler  [1991, 2005]   \n              Natural gas Natural gas-Standard boiler     [1000, 1970]   \n...                                                                ...   \n                          Natural gas-Performance boiler  [1971, 1990]   \n                          Natural gas-Performance boiler  [1971, 1990]   \nSingle-family Natural gas Natural gas-Standard boiler     [1000, 1970]   \n              Electricity Electricity-Performance boiler  [1991, 2005]   \nMulti-family  Electricity Electricity-Performance boiler  [1000, 1970]   \n\n                                                          Air rate  \nHousing type  Energy      Heating system                            \nSingle-family Electricity Electricity-Performance boiler      0.49  \n                          Electricity-Performance boiler      0.85  \n                          Electricity-Performance boiler      0.66  \nMulti-family  Electricity Electricity-Performance boiler      0.85  \n              Natural gas Natural gas-Standard boiler         0.66  \n...                                                            ...  \n                          Natural gas-Performance boiler      0.85  \n                          Natural gas-Performance boiler      0.66  \nSingle-family Natural gas Natural gas-Standard boiler         0.60  \n              Electricity Electricity-Performance boiler      0.49  \nMulti-family  Electricity Electricity-Performance boiler      0.60  \n\n[1194442 rows x 7 columns]",
      "text/html": "<div>\n<style scoped>\n    .dataframe tbody tr th:only-of-type {\n        vertical-align: middle;\n    }\n\n    .dataframe tbody tr th {\n        vertical-align: top;\n    }\n\n    .dataframe thead th {\n        text-align: right;\n    }\n</style>\n<table border=\"1\" class=\"dataframe\">\n  <thead>\n    <tr style=\"text-align: right;\">\n      <th></th>\n      <th></th>\n      <th></th>\n      <th>Wall</th>\n      <th>Floor</th>\n      <th>Roof</th>\n      <th>Windows</th>\n      <th>Efficiency</th>\n      <th>Period</th>\n      <th>Air rate</th>\n    </tr>\n    <tr>\n      <th>Housing type</th>\n      <th>Energy</th>\n      <th>Heating system</th>\n      <th></th>\n      <th></th>\n      <th></th>\n      <th></th>\n      <th></th>\n      <th></th>\n      <th></th>\n    </tr>\n  </thead>\n  <tbody>\n    <tr>\n      <th rowspan=\"3\" valign=\"top\">Single-family</th>\n      <th rowspan=\"3\" valign=\"top\">Electricity</th>\n      <th>Electricity-Performance boiler</th>\n      <td>0.4</td>\n      <td>0.3</td>\n      <td>0.2</td>\n      <td>2.6</td>\n      <td>0.95</td>\n      <td>[1991, 2005]</td>\n      <td>0.49</td>\n    </tr>\n    <tr>\n      <th>Electricity-Performance boiler</th>\n      <td>0.2</td>\n      <td>0.9</td>\n      <td>0.2</td>\n      <td>2.6</td>\n      <td>0.95</td>\n      <td>[1971, 1990]</td>\n      <td>0.85</td>\n    </tr>\n    <tr>\n      <th>Electricity-Performance boiler</th>\n      <td>0.4</td>\n      <td>0.3</td>\n      <td>0.3</td>\n      <td>2.6</td>\n      <td>0.95</td>\n      <td>[1991, 2005]</td>\n      <td>0.66</td>\n    </tr>\n    <tr>\n      <th rowspan=\"5\" valign=\"top\">Multi-family</th>\n      <th>Electricity</th>\n      <th>Electricity-Performance boiler</th>\n      <td>0.5</td>\n      <td>0.3</td>\n      <td>2.5</td>\n      <td>2.6</td>\n      <td>0.95</td>\n      <td>[1991, 2005]</td>\n      <td>0.85</td>\n    </tr>\n    <tr>\n      <th rowspan=\"4\" valign=\"top\">Natural gas</th>\n      <th>Natural gas-Standard boiler</th>\n      <td>2.5</td>\n      <td>0.3</td>\n      <td>2.5</td>\n      <td>3.0</td>\n      <td>0.60</td>\n      <td>[1000, 1970]</td>\n      <td>0.66</td>\n    </tr>\n    <tr>\n      <th>...</th>\n      <td>...</td>\n      <td>...</td>\n      <td>...</td>\n      <td>...</td>\n      <td>...</td>\n      <td>...</td>\n      <td>...</td>\n    </tr>\n    <tr>\n      <th>Natural gas-Performance boiler</th>\n      <td>1.0</td>\n      <td>0.5</td>\n      <td>0.5</td>\n      <td>2.6</td>\n      <td>0.76</td>\n      <td>[1971, 1990]</td>\n      <td>0.85</td>\n    </tr>\n    <tr>\n      <th>Natural gas-Performance boiler</th>\n      <td>2.5</td>\n      <td>0.5</td>\n      <td>0.5</td>\n      <td>2.6</td>\n      <td>0.76</td>\n      <td>[1971, 1990]</td>\n      <td>0.66</td>\n    </tr>\n    <tr>\n      <th rowspan=\"2\" valign=\"top\">Single-family</th>\n      <th>Natural gas</th>\n      <th>Natural gas-Standard boiler</th>\n      <td>2.5</td>\n      <td>2.0</td>\n      <td>0.3</td>\n      <td>2.6</td>\n      <td>0.60</td>\n      <td>[1000, 1970]</td>\n      <td>0.60</td>\n    </tr>\n    <tr>\n      <th>Electricity</th>\n      <th>Electricity-Performance boiler</th>\n      <td>0.4</td>\n      <td>0.3</td>\n      <td>0.2</td>\n      <td>2.6</td>\n      <td>0.95</td>\n      <td>[1991, 2005]</td>\n      <td>0.49</td>\n    </tr>\n    <tr>\n      <th>Multi-family</th>\n      <th>Electricity</th>\n      <th>Electricity-Performance boiler</th>\n      <td>0.4</td>\n      <td>2.0</td>\n      <td>2.5</td>\n      <td>2.6</td>\n      <td>0.95</td>\n      <td>[1000, 1970]</td>\n      <td>0.60</td>\n    </tr>\n  </tbody>\n</table>\n<p>1194442 rows × 7 columns</p>\n</div>"
     },
     "execution_count": 28,
     "metadata": {},
     "output_type": "execute_result"
    }
   ],
   "source": [
    "vars = {'residential_type': 'Housing type',\n",
    "        'main_heating_energy': 'Energy',\n",
    "        'wall_u_value': 'Wall',\n",
    "        'floor_u_value': 'Floor',\n",
    "        'roof_u_value': 'Roof',\n",
    "        'wall_window_u_value': 'Windows',\n",
    "        'main_heating_system_efficiency_round': 'Efficiency',\n",
    "        'construction_period': 'Period',\n",
    "        'air_change_rate': 'Air rate',\n",
    "        'heating_system': 'Heating system'\n",
    "        }\n",
    "\n",
    "buildings = df[vars.keys()].copy()\n",
    "\n",
    "replace = {'house': 'Single-family',\n",
    "           'apartment': 'Multi-family',\n",
    "           'electricity': 'Electricity',\n",
    "           'oil': 'Oil fuel',\n",
    "           'fossil_gas': 'Natural gas',\n",
    "           'biomass': 'Wood fuel',\n",
    "           'electric heater': 'Electricity-Performance boiler',\n",
    "          'fossil gas boiler': 'Natural gas-Standard boiler',\n",
    "          'oil boiler': 'Oil fuel-Standard boiler',\n",
    "          'biomass/coal boiler': 'Wood fuel-Standard boiler',\n",
    "          'electric heat pump': 'Electricity-Heat pump'\n",
    "           }\n",
    "\n",
    "\n",
    "\n",
    "buildings.loc[:, 'residential_type'] = buildings.loc[:, 'residential_type'].replace(replace)\n",
    "buildings.loc[:, 'main_heating_energy'] = buildings.loc[:, 'main_heating_energy'].replace(replace)\n",
    "buildings.loc[:, 'heating_system'] = buildings.loc[:, 'heating_system'].replace(replace)\n",
    "idx = buildings[buildings['main_heating_system_efficiency_round'] == 0.76].index\n",
    "buildings.loc[idx, 'heating_system'] = buildings.loc[idx, 'heating_system'].str.replace('Standard', 'Performance')\n",
    "\n",
    "buildings['air_change_rate'] = buildings['air_change_rate'].astype('float')\n",
    "\n",
    "buildings = buildings.rename(columns=vars)\n",
    "buildings = buildings.set_index(['Housing type', 'Energy', 'Heating system'])\n",
    "buildings\n"
   ],
   "metadata": {
    "collapsed": false
   }
  },
  {
   "cell_type": "code",
   "execution_count": 29,
   "outputs": [
    {
     "data": {
      "text/plain": "<AxesSubplot: >"
     },
     "execution_count": 29,
     "metadata": {},
     "output_type": "execute_result"
    },
    {
     "data": {
      "text/plain": "<Figure size 640x480 with 1 Axes>",
      "image/png": "[encoded data removed]"
     },
     "metadata": {},
     "output_type": "display_data"
    }
   ],
   "source": [
    "energy = conventional_heating_final(buildings['Wall'], buildings['Floor'], buildings['Roof'], buildings['Windows'], ratio_surface, buildings['Efficiency'])\n",
    "energy.hist()"
   ],
   "metadata": {
    "collapsed": false
   }
  },
  {
   "cell_type": "code",
   "execution_count": 30,
   "outputs": [
    {
     "ename": "TypeError",
     "evalue": "unsupported operand type(s) for /: 'float' and 'str'",
     "output_type": "error",
     "traceback": [
      "\u001B[0;31m---------------------------------------------------------------------------\u001B[0m",
      "\u001B[0;31mTypeError\u001B[0m                                 Traceback (most recent call last)",
      "File \u001B[0;32m~/opt/anaconda3/envs/APIData/lib/python3.8/site-packages/pandas/core/ops/array_ops.py:163\u001B[0m, in \u001B[0;36m_na_arithmetic_op\u001B[0;34m(left, right, op, is_cmp)\u001B[0m\n\u001B[1;32m    162\u001B[0m \u001B[38;5;28;01mtry\u001B[39;00m:\n\u001B[0;32m--> 163\u001B[0m     result \u001B[38;5;241m=\u001B[39m \u001B[43mfunc\u001B[49m\u001B[43m(\u001B[49m\u001B[43mleft\u001B[49m\u001B[43m,\u001B[49m\u001B[43m \u001B[49m\u001B[43mright\u001B[49m\u001B[43m)\u001B[49m\n\u001B[1;32m    164\u001B[0m \u001B[38;5;28;01mexcept\u001B[39;00m \u001B[38;5;167;01mTypeError\u001B[39;00m:\n",
      "File \u001B[0;32m~/opt/anaconda3/envs/APIData/lib/python3.8/site-packages/pandas/core/computation/expressions.py:239\u001B[0m, in \u001B[0;36mevaluate\u001B[0;34m(op, a, b, use_numexpr)\u001B[0m\n\u001B[1;32m    237\u001B[0m     \u001B[38;5;28;01mif\u001B[39;00m use_numexpr:\n\u001B[1;32m    238\u001B[0m         \u001B[38;5;66;03m# error: \"None\" not callable\u001B[39;00m\n\u001B[0;32m--> 239\u001B[0m         \u001B[38;5;28;01mreturn\u001B[39;00m \u001B[43m_evaluate\u001B[49m\u001B[43m(\u001B[49m\u001B[43mop\u001B[49m\u001B[43m,\u001B[49m\u001B[43m \u001B[49m\u001B[43mop_str\u001B[49m\u001B[43m,\u001B[49m\u001B[43m \u001B[49m\u001B[43ma\u001B[49m\u001B[43m,\u001B[49m\u001B[43m \u001B[49m\u001B[43mb\u001B[49m\u001B[43m)\u001B[49m  \u001B[38;5;66;03m# type: ignore[misc]\u001B[39;00m\n\u001B[1;32m    240\u001B[0m \u001B[38;5;28;01mreturn\u001B[39;00m _evaluate_standard(op, op_str, a, b)\n",
      "File \u001B[0;32m~/opt/anaconda3/envs/APIData/lib/python3.8/site-packages/pandas/core/computation/expressions.py:128\u001B[0m, in \u001B[0;36m_evaluate_numexpr\u001B[0;34m(op, op_str, a, b)\u001B[0m\n\u001B[1;32m    127\u001B[0m \u001B[38;5;28;01mif\u001B[39;00m result \u001B[38;5;129;01mis\u001B[39;00m \u001B[38;5;28;01mNone\u001B[39;00m:\n\u001B[0;32m--> 128\u001B[0m     result \u001B[38;5;241m=\u001B[39m \u001B[43m_evaluate_standard\u001B[49m\u001B[43m(\u001B[49m\u001B[43mop\u001B[49m\u001B[43m,\u001B[49m\u001B[43m \u001B[49m\u001B[43mop_str\u001B[49m\u001B[43m,\u001B[49m\u001B[43m \u001B[49m\u001B[43ma\u001B[49m\u001B[43m,\u001B[49m\u001B[43m \u001B[49m\u001B[43mb\u001B[49m\u001B[43m)\u001B[49m\n\u001B[1;32m    130\u001B[0m \u001B[38;5;28;01mreturn\u001B[39;00m result\n",
      "File \u001B[0;32m~/opt/anaconda3/envs/APIData/lib/python3.8/site-packages/pandas/core/computation/expressions.py:69\u001B[0m, in \u001B[0;36m_evaluate_standard\u001B[0;34m(op, op_str, a, b)\u001B[0m\n\u001B[1;32m     68\u001B[0m     _store_test_result(\u001B[38;5;28;01mFalse\u001B[39;00m)\n\u001B[0;32m---> 69\u001B[0m \u001B[38;5;28;01mreturn\u001B[39;00m \u001B[43mop\u001B[49m\u001B[43m(\u001B[49m\u001B[43ma\u001B[49m\u001B[43m,\u001B[49m\u001B[43m \u001B[49m\u001B[43mb\u001B[49m\u001B[43m)\u001B[49m\n",
      "\u001B[0;31mTypeError\u001B[0m: unsupported operand type(s) for /: 'float' and 'str'",
      "\nDuring handling of the above exception, another exception occurred:\n",
      "\u001B[0;31mTypeError\u001B[0m                                 Traceback (most recent call last)",
      "Cell \u001B[0;32mIn [30], line 1\u001B[0m\n\u001B[0;32m----> 1\u001B[0m dpe, energy_primary \u001B[38;5;241m=\u001B[39m \u001B[43mconventional_energy_3uses\u001B[49m\u001B[43m(\u001B[49m\u001B[43mbuildings\u001B[49m\u001B[43m[\u001B[49m\u001B[38;5;124;43m'\u001B[39;49m\u001B[38;5;124;43mWall\u001B[39;49m\u001B[38;5;124;43m'\u001B[39;49m\u001B[43m]\u001B[49m\u001B[43m,\u001B[49m\u001B[43m \u001B[49m\u001B[43mbuildings\u001B[49m\u001B[43m[\u001B[49m\u001B[38;5;124;43m'\u001B[39;49m\u001B[38;5;124;43mFloor\u001B[39;49m\u001B[38;5;124;43m'\u001B[39;49m\u001B[43m]\u001B[49m\u001B[43m,\u001B[49m\u001B[43m \u001B[49m\u001B[43mbuildings\u001B[49m\u001B[43m[\u001B[49m\u001B[38;5;124;43m'\u001B[39;49m\u001B[38;5;124;43mRoof\u001B[39;49m\u001B[38;5;124;43m'\u001B[39;49m\u001B[43m]\u001B[49m\u001B[43m,\u001B[49m\u001B[43m \u001B[49m\u001B[43mbuildings\u001B[49m\u001B[43m[\u001B[49m\u001B[38;5;124;43m'\u001B[39;49m\u001B[38;5;124;43mWindows\u001B[39;49m\u001B[38;5;124;43m'\u001B[39;49m\u001B[43m]\u001B[49m\u001B[43m,\u001B[49m\u001B[43m \u001B[49m\u001B[43mratio_surface\u001B[49m\u001B[43m,\u001B[49m\u001B[43m \u001B[49m\u001B[43mbuildings\u001B[49m\u001B[43m[\u001B[49m\u001B[38;5;124;43m'\u001B[39;49m\u001B[38;5;124;43mEfficiency\u001B[39;49m\u001B[38;5;124;43m'\u001B[39;49m\u001B[43m]\u001B[49m\u001B[43m,\u001B[49m\u001B[43m \u001B[49m\u001B[43mbuildings\u001B[49m\u001B[38;5;241;43m.\u001B[39;49m\u001B[43mindex\u001B[49m\u001B[43m,\u001B[49m\u001B[43m \u001B[49m\u001B[43mair_rate\u001B[49m\u001B[38;5;241;43m=\u001B[39;49m\u001B[43mbuildings\u001B[49m\u001B[43m[\u001B[49m\u001B[38;5;124;43m'\u001B[39;49m\u001B[38;5;124;43mAir rate\u001B[39;49m\u001B[38;5;124;43m'\u001B[39;49m\u001B[43m]\u001B[49m\u001B[43m)\u001B[49m\n\u001B[1;32m      2\u001B[0m result \u001B[38;5;241m=\u001B[39m pd\u001B[38;5;241m.\u001B[39mconcat((buildings, dpe\u001B[38;5;241m.\u001B[39mrename(\u001B[38;5;124m'\u001B[39m\u001B[38;5;124mDPE\u001B[39m\u001B[38;5;124m'\u001B[39m), energy_primary\u001B[38;5;241m.\u001B[39mrename(\u001B[38;5;124m'\u001B[39m\u001B[38;5;124mPE\u001B[39m\u001B[38;5;124m'\u001B[39m)), axis\u001B[38;5;241m=\u001B[39m\u001B[38;5;241m1\u001B[39m)\n\u001B[1;32m      3\u001B[0m result\u001B[38;5;241m.\u001B[39mset_index(\u001B[38;5;124m'\u001B[39m\u001B[38;5;124mDPE\u001B[39m\u001B[38;5;124m'\u001B[39m, append\u001B[38;5;241m=\u001B[39m\u001B[38;5;28;01mTrue\u001B[39;00m, inplace\u001B[38;5;241m=\u001B[39m\u001B[38;5;28;01mTrue\u001B[39;00m)\n",
      "File \u001B[0;32m~/PycharmProjects/Res-IRF4/project/thermal.py:263\u001B[0m, in \u001B[0;36mconventional_energy_3uses\u001B[0;34m(u_wall, u_floor, u_roof, u_windows, ratio_surface, efficiency, index, th_bridging, vent_types, infiltration, air_rate, unobserved)\u001B[0m\n\u001B[1;32m    234\u001B[0m \u001B[38;5;124;03m\"\"\"Space heating conventional, and energy performance certificate.\u001B[39;00m\n\u001B[1;32m    235\u001B[0m \n\u001B[1;32m    236\u001B[0m \u001B[38;5;124;03mMethod before july 2021.\u001B[39;00m\n\u001B[0;32m   (...)\u001B[0m\n\u001B[1;32m    256\u001B[0m \n\u001B[1;32m    257\u001B[0m \u001B[38;5;124;03m\"\"\"\u001B[39;00m\n\u001B[1;32m    259\u001B[0m heating_final \u001B[38;5;241m=\u001B[39m conventional_heating_final(u_wall, u_floor, u_roof, u_windows, ratio_surface, efficiency,\n\u001B[1;32m    260\u001B[0m                                            th_bridging\u001B[38;5;241m=\u001B[39mth_bridging, vent_types\u001B[38;5;241m=\u001B[39mvent_types,\n\u001B[1;32m    261\u001B[0m                                            infiltration\u001B[38;5;241m=\u001B[39minfiltration, air_rate\u001B[38;5;241m=\u001B[39mair_rate, unobserved\u001B[38;5;241m=\u001B[39munobserved\n\u001B[1;32m    262\u001B[0m                                            )\n\u001B[0;32m--> 263\u001B[0m dhw_final \u001B[38;5;241m=\u001B[39m \u001B[43mconventional_dhw_final\u001B[49m\u001B[43m(\u001B[49m\u001B[43mindex\u001B[49m\u001B[43m)\u001B[49m\n\u001B[1;32m    264\u001B[0m ac_final \u001B[38;5;241m=\u001B[39m \u001B[38;5;241m0\u001B[39m\n\u001B[1;32m    265\u001B[0m energy_final \u001B[38;5;241m=\u001B[39m heating_final \u001B[38;5;241m+\u001B[39m dhw_final \u001B[38;5;241m+\u001B[39m ac_final\n",
      "File \u001B[0;32m~/PycharmProjects/Res-IRF4/project/thermal.py:227\u001B[0m, in \u001B[0;36mconventional_dhw_final\u001B[0;34m(index)\u001B[0m\n\u001B[1;32m    225\u001B[0m efficiency \u001B[38;5;241m=\u001B[39m pd\u001B[38;5;241m.\u001B[39mSeries(index\u001B[38;5;241m.\u001B[39mget_level_values(\u001B[38;5;124m'\u001B[39m\u001B[38;5;124mHeating system\u001B[39m\u001B[38;5;124m'\u001B[39m))\u001B[38;5;241m.\u001B[39mastype(\u001B[38;5;124m'\u001B[39m\u001B[38;5;124mobject\u001B[39m\u001B[38;5;124m'\u001B[39m)\u001B[38;5;241m.\u001B[39mreplace(DHW_EFFICIENCY)\u001B[38;5;241m.\u001B[39mset_axis(index, axis\u001B[38;5;241m=\u001B[39m\u001B[38;5;241m0\u001B[39m)\n\u001B[1;32m    226\u001B[0m dhw_need \u001B[38;5;241m=\u001B[39m DHW_NEED\u001B[38;5;241m.\u001B[39mreindex(index\u001B[38;5;241m.\u001B[39mget_level_values(\u001B[38;5;124m'\u001B[39m\u001B[38;5;124mHousing type\u001B[39m\u001B[38;5;124m'\u001B[39m))\u001B[38;5;241m.\u001B[39mset_axis(index, axis\u001B[38;5;241m=\u001B[39m\u001B[38;5;241m0\u001B[39m)\n\u001B[0;32m--> 227\u001B[0m \u001B[38;5;28;01mreturn\u001B[39;00m \u001B[43mdhw_need\u001B[49m\u001B[43m \u001B[49m\u001B[38;5;241;43m/\u001B[39;49m\u001B[43m \u001B[49m\u001B[43mefficiency\u001B[49m\n",
      "File \u001B[0;32m~/opt/anaconda3/envs/APIData/lib/python3.8/site-packages/pandas/core/ops/common.py:70\u001B[0m, in \u001B[0;36m_unpack_zerodim_and_defer.<locals>.new_method\u001B[0;34m(self, other)\u001B[0m\n\u001B[1;32m     66\u001B[0m             \u001B[38;5;28;01mreturn\u001B[39;00m \u001B[38;5;28mNotImplemented\u001B[39m\n\u001B[1;32m     68\u001B[0m other \u001B[38;5;241m=\u001B[39m item_from_zerodim(other)\n\u001B[0;32m---> 70\u001B[0m \u001B[38;5;28;01mreturn\u001B[39;00m \u001B[43mmethod\u001B[49m\u001B[43m(\u001B[49m\u001B[38;5;28;43mself\u001B[39;49m\u001B[43m,\u001B[49m\u001B[43m \u001B[49m\u001B[43mother\u001B[49m\u001B[43m)\u001B[49m\n",
      "File \u001B[0;32m~/opt/anaconda3/envs/APIData/lib/python3.8/site-packages/pandas/core/arraylike.py:124\u001B[0m, in \u001B[0;36mOpsMixin.__truediv__\u001B[0;34m(self, other)\u001B[0m\n\u001B[1;32m    122\u001B[0m \u001B[38;5;129m@unpack_zerodim_and_defer\u001B[39m(\u001B[38;5;124m\"\u001B[39m\u001B[38;5;124m__truediv__\u001B[39m\u001B[38;5;124m\"\u001B[39m)\n\u001B[1;32m    123\u001B[0m \u001B[38;5;28;01mdef\u001B[39;00m \u001B[38;5;21m__truediv__\u001B[39m(\u001B[38;5;28mself\u001B[39m, other):\n\u001B[0;32m--> 124\u001B[0m     \u001B[38;5;28;01mreturn\u001B[39;00m \u001B[38;5;28;43mself\u001B[39;49m\u001B[38;5;241;43m.\u001B[39;49m\u001B[43m_arith_method\u001B[49m\u001B[43m(\u001B[49m\u001B[43mother\u001B[49m\u001B[43m,\u001B[49m\u001B[43m \u001B[49m\u001B[43moperator\u001B[49m\u001B[38;5;241;43m.\u001B[39;49m\u001B[43mtruediv\u001B[49m\u001B[43m)\u001B[49m\n",
      "File \u001B[0;32m~/opt/anaconda3/envs/APIData/lib/python3.8/site-packages/pandas/core/series.py:5639\u001B[0m, in \u001B[0;36mSeries._arith_method\u001B[0;34m(self, other, op)\u001B[0m\n\u001B[1;32m   5637\u001B[0m \u001B[38;5;28;01mdef\u001B[39;00m \u001B[38;5;21m_arith_method\u001B[39m(\u001B[38;5;28mself\u001B[39m, other, op):\n\u001B[1;32m   5638\u001B[0m     \u001B[38;5;28mself\u001B[39m, other \u001B[38;5;241m=\u001B[39m ops\u001B[38;5;241m.\u001B[39malign_method_SERIES(\u001B[38;5;28mself\u001B[39m, other)\n\u001B[0;32m-> 5639\u001B[0m     \u001B[38;5;28;01mreturn\u001B[39;00m \u001B[43mbase\u001B[49m\u001B[38;5;241;43m.\u001B[39;49m\u001B[43mIndexOpsMixin\u001B[49m\u001B[38;5;241;43m.\u001B[39;49m\u001B[43m_arith_method\u001B[49m\u001B[43m(\u001B[49m\u001B[38;5;28;43mself\u001B[39;49m\u001B[43m,\u001B[49m\u001B[43m \u001B[49m\u001B[43mother\u001B[49m\u001B[43m,\u001B[49m\u001B[43m \u001B[49m\u001B[43mop\u001B[49m\u001B[43m)\u001B[49m\n",
      "File \u001B[0;32m~/opt/anaconda3/envs/APIData/lib/python3.8/site-packages/pandas/core/base.py:1295\u001B[0m, in \u001B[0;36mIndexOpsMixin._arith_method\u001B[0;34m(self, other, op)\u001B[0m\n\u001B[1;32m   1292\u001B[0m rvalues \u001B[38;5;241m=\u001B[39m ensure_wrapped_if_datetimelike(rvalues)\n\u001B[1;32m   1294\u001B[0m \u001B[38;5;28;01mwith\u001B[39;00m np\u001B[38;5;241m.\u001B[39merrstate(\u001B[38;5;28mall\u001B[39m\u001B[38;5;241m=\u001B[39m\u001B[38;5;124m\"\u001B[39m\u001B[38;5;124mignore\u001B[39m\u001B[38;5;124m\"\u001B[39m):\n\u001B[0;32m-> 1295\u001B[0m     result \u001B[38;5;241m=\u001B[39m \u001B[43mops\u001B[49m\u001B[38;5;241;43m.\u001B[39;49m\u001B[43marithmetic_op\u001B[49m\u001B[43m(\u001B[49m\u001B[43mlvalues\u001B[49m\u001B[43m,\u001B[49m\u001B[43m \u001B[49m\u001B[43mrvalues\u001B[49m\u001B[43m,\u001B[49m\u001B[43m \u001B[49m\u001B[43mop\u001B[49m\u001B[43m)\u001B[49m\n\u001B[1;32m   1297\u001B[0m \u001B[38;5;28;01mreturn\u001B[39;00m \u001B[38;5;28mself\u001B[39m\u001B[38;5;241m.\u001B[39m_construct_result(result, name\u001B[38;5;241m=\u001B[39mres_name)\n",
      "File \u001B[0;32m~/opt/anaconda3/envs/APIData/lib/python3.8/site-packages/pandas/core/ops/array_ops.py:222\u001B[0m, in \u001B[0;36marithmetic_op\u001B[0;34m(left, right, op)\u001B[0m\n\u001B[1;32m    217\u001B[0m \u001B[38;5;28;01melse\u001B[39;00m:\n\u001B[1;32m    218\u001B[0m     \u001B[38;5;66;03m# TODO we should handle EAs consistently and move this check before the if/else\u001B[39;00m\n\u001B[1;32m    219\u001B[0m     \u001B[38;5;66;03m# (https://github.com/pandas-dev/pandas/issues/41165)\u001B[39;00m\n\u001B[1;32m    220\u001B[0m     _bool_arith_check(op, left, right)\n\u001B[0;32m--> 222\u001B[0m     res_values \u001B[38;5;241m=\u001B[39m \u001B[43m_na_arithmetic_op\u001B[49m\u001B[43m(\u001B[49m\u001B[43mleft\u001B[49m\u001B[43m,\u001B[49m\u001B[43m \u001B[49m\u001B[43mright\u001B[49m\u001B[43m,\u001B[49m\u001B[43m \u001B[49m\u001B[43mop\u001B[49m\u001B[43m)\u001B[49m\n\u001B[1;32m    224\u001B[0m \u001B[38;5;28;01mreturn\u001B[39;00m res_values\n",
      "File \u001B[0;32m~/opt/anaconda3/envs/APIData/lib/python3.8/site-packages/pandas/core/ops/array_ops.py:170\u001B[0m, in \u001B[0;36m_na_arithmetic_op\u001B[0;34m(left, right, op, is_cmp)\u001B[0m\n\u001B[1;32m    164\u001B[0m \u001B[38;5;28;01mexcept\u001B[39;00m \u001B[38;5;167;01mTypeError\u001B[39;00m:\n\u001B[1;32m    165\u001B[0m     \u001B[38;5;28;01mif\u001B[39;00m \u001B[38;5;129;01mnot\u001B[39;00m is_cmp \u001B[38;5;129;01mand\u001B[39;00m (is_object_dtype(left\u001B[38;5;241m.\u001B[39mdtype) \u001B[38;5;129;01mor\u001B[39;00m is_object_dtype(right)):\n\u001B[1;32m    166\u001B[0m         \u001B[38;5;66;03m# For object dtype, fallback to a masked operation (only operating\u001B[39;00m\n\u001B[1;32m    167\u001B[0m         \u001B[38;5;66;03m#  on the non-missing values)\u001B[39;00m\n\u001B[1;32m    168\u001B[0m         \u001B[38;5;66;03m# Don't do this for comparisons, as that will handle complex numbers\u001B[39;00m\n\u001B[1;32m    169\u001B[0m         \u001B[38;5;66;03m#  incorrectly, see GH#32047\u001B[39;00m\n\u001B[0;32m--> 170\u001B[0m         result \u001B[38;5;241m=\u001B[39m \u001B[43m_masked_arith_op\u001B[49m\u001B[43m(\u001B[49m\u001B[43mleft\u001B[49m\u001B[43m,\u001B[49m\u001B[43m \u001B[49m\u001B[43mright\u001B[49m\u001B[43m,\u001B[49m\u001B[43m \u001B[49m\u001B[43mop\u001B[49m\u001B[43m)\u001B[49m\n\u001B[1;32m    171\u001B[0m     \u001B[38;5;28;01melse\u001B[39;00m:\n\u001B[1;32m    172\u001B[0m         \u001B[38;5;28;01mraise\u001B[39;00m\n",
      "File \u001B[0;32m~/opt/anaconda3/envs/APIData/lib/python3.8/site-packages/pandas/core/ops/array_ops.py:108\u001B[0m, in \u001B[0;36m_masked_arith_op\u001B[0;34m(x, y, op)\u001B[0m\n\u001B[1;32m    106\u001B[0m     \u001B[38;5;66;03m# See GH#5284, GH#5035, GH#19448 for historical reference\u001B[39;00m\n\u001B[1;32m    107\u001B[0m     \u001B[38;5;28;01mif\u001B[39;00m mask\u001B[38;5;241m.\u001B[39many():\n\u001B[0;32m--> 108\u001B[0m         result[mask] \u001B[38;5;241m=\u001B[39m \u001B[43mop\u001B[49m\u001B[43m(\u001B[49m\u001B[43mxrav\u001B[49m\u001B[43m[\u001B[49m\u001B[43mmask\u001B[49m\u001B[43m]\u001B[49m\u001B[43m,\u001B[49m\u001B[43m \u001B[49m\u001B[43myrav\u001B[49m\u001B[43m[\u001B[49m\u001B[43mmask\u001B[49m\u001B[43m]\u001B[49m\u001B[43m)\u001B[49m\n\u001B[1;32m    110\u001B[0m \u001B[38;5;28;01melse\u001B[39;00m:\n\u001B[1;32m    111\u001B[0m     \u001B[38;5;28;01mif\u001B[39;00m \u001B[38;5;129;01mnot\u001B[39;00m is_scalar(y):\n",
      "\u001B[0;31mTypeError\u001B[0m: unsupported operand type(s) for /: 'float' and 'str'"
     ]
    }
   ],
   "source": [
    "dpe, energy_primary = conventional_energy_3uses(buildings['Wall'], buildings['Floor'], buildings['Roof'], buildings['Windows'], ratio_surface, buildings['Efficiency'], buildings.index, air_rate=buildings['Air rate'])\n",
    "result = pd.concat((buildings, dpe.rename('DPE'), energy_primary.rename('PE')), axis=1)\n",
    "result.set_index('DPE', append=True, inplace=True)\n",
    "result.head()"
   ],
   "metadata": {
    "collapsed": false
   }
  },
  {
   "cell_type": "code",
   "execution_count": null,
   "outputs": [],
   "source": [
    "result.to_csv('data_parsed.csv')"
   ],
   "metadata": {
    "collapsed": false
   }
  },
  {
   "cell_type": "code",
   "execution_count": null,
   "outputs": [],
   "source": [],
   "metadata": {
    "collapsed": false
   }
  }
 ],
 "metadata": {
  "kernelspec": {
   "display_name": "Python 3",
   "language": "python",
   "name": "python3"
  },
  "language_info": {
   "codemirror_mode": {
    "name": "ipython",
    "version": 2
   },
   "file_extension": ".py",
   "mimetype": "text/x-python",
   "name": "python",
   "nbconvert_exporter": "python",
   "pygments_lexer": "ipython2",
   "version": "2.7.6"
  }
 },
 "nbformat": 4,
 "nbformat_minor": 0
}

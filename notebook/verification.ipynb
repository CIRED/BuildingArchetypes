{
 "cells": [
  {
   "cell_type": "code",
   "execution_count": 1,
   "outputs": [],
   "source": [
    "import pandas as pd"
   ],
   "metadata": {
    "collapsed": false,
    "pycharm": {
     "name": "#%%\n"
    }
   }
  },
  {
   "cell_type": "markdown",
   "source": [
    "# Export from ADEME DPE Database"
   ],
   "metadata": {
    "collapsed": false,
    "pycharm": {
     "name": "#%% md\n"
    }
   }
  },
  {
   "cell_type": "code",
   "execution_count": 3,
   "outputs": [
    {
     "name": "stdout",
     "output_type": "stream",
     "text": [
      "1532140\n",
      "<class 'pandas.core.frame.DataFrame'>\n",
      "Int64Index: 1448763 entries, 35 to 5419824\n",
      "Data columns (total 26 columns):\n",
      " #   Column                            Non-Null Count    Dtype   \n",
      "---  ------                            --------------    -----   \n",
      " 0   td001_dpe_id                      1448763 non-null  int64   \n",
      " 1   construction_year_class           1448763 non-null  category\n",
      " 2   residential_type                  1448763 non-null  category\n",
      " 3   wall_u_value                      1448763 non-null  category\n",
      " 4   roof_u_value                      1448763 non-null  category\n",
      " 5   floor_u_value                     1448763 non-null  category\n",
      " 6   wall_window_share                 1448763 non-null  category\n",
      " 7   wall_window_u_value               1448763 non-null  category\n",
      " 8   wall_window_solar_factor          1448763 non-null  category\n",
      " 9   roof_window_share                 1448763 non-null  category\n",
      " 10  roof_window_u_value               1448763 non-null  category\n",
      " 11  roof_window_solar_factor          1448763 non-null  category\n",
      " 12  main_heating_system_efficiency    1448763 non-null  category\n",
      " 13  main_heating_energy               1448763 non-null  category\n",
      " 14  backup_heating_system_efficiency  1448763 non-null  category\n",
      " 15  air_change_rate                   1448763 non-null  category\n",
      " 16  backup_heating_energy             1448763 non-null  category\n",
      " 17  backup_heating_share              1448763 non-null  category\n",
      " 18  dhw_energy                        1448763 non-null  object  \n",
      " 19  district                          1448763 non-null  category\n",
      " 20  heating_system                    1448763 non-null  category\n",
      " 21  city                              1448763 non-null  category\n",
      " 22  city_name                         1448763 non-null  category\n",
      " 23  department                        1448763 non-null  category\n",
      " 24  city_group                        1404006 non-null  category\n",
      " 25  region                            1448763 non-null  category\n",
      "dtypes: category(24), int64(1), object(1)\n",
      "memory usage: 78.4+ MB\n"
     ]
    }
   ],
   "source": [
    "df = pd.read_hdf('input/district_level_diagnosis_data_latest.hdf')\n",
    "df.set_index('td001_dpe_id', drop=False, inplace=True)\n",
    "print(df.shape[0])\n",
    "df.drop_duplicates('td001_dpe_id', inplace=True)\n",
    "df.info()"
   ],
   "metadata": {
    "collapsed": false,
    "pycharm": {
     "name": "#%%\n"
    }
   }
  },
  {
   "cell_type": "markdown",
   "source": [
    "### Test cohérence des données"
   ],
   "metadata": {
    "collapsed": false,
    "pycharm": {
     "name": "#%% md\n"
    }
   }
  },
  {
   "cell_type": "code",
   "execution_count": null,
   "outputs": [],
   "source": [
    "test_export_dpe = pd.read_csv('td001_dpe-clean.csv', low_memory=False)\n",
    "test_export_dpe.set_index('id', drop=False, inplace=True)\n",
    "test_export_dpe.info()"
   ],
   "metadata": {
    "collapsed": false,
    "pycharm": {
     "name": "#%%\n"
    }
   }
  },
  {
   "cell_type": "code",
   "execution_count": null,
   "outputs": [],
   "source": [
    "idx = df.index.intersection(test_export_dpe.index)\n",
    "idx.shape"
   ],
   "metadata": {
    "collapsed": false,
    "pycharm": {
     "name": "#%%\n"
    }
   }
  },
  {
   "cell_type": "code",
   "execution_count": null,
   "outputs": [],
   "source": [
    "vars_intersect_test = ['id', 'annee_construction', 'secteur_activite', 'commune']\n",
    "test_export_dpe.loc[idx[:10], vars_intersect_test].head(40)"
   ],
   "metadata": {
    "collapsed": false,
    "pycharm": {
     "name": "#%%\n"
    }
   }
  },
  {
   "cell_type": "code",
   "execution_count": null,
   "outputs": [],
   "source": [
    "vars_intersect = ['td001_dpe_id', 'construction_year_class', 'residential_type', 'city_name']\n",
    "df.loc[idx[:10], vars_intersect]"
   ],
   "metadata": {
    "collapsed": false,
    "pycharm": {
     "name": "#%%\n"
    }
   }
  }
 ],
 "metadata": {
  "kernelspec": {
   "display_name": "Python 3",
   "language": "python",
   "name": "python3"
  },
  "language_info": {
   "codemirror_mode": {
    "name": "ipython",
    "version": 2
   },
   "file_extension": ".py",
   "mimetype": "text/x-python",
   "name": "python",
   "nbconvert_exporter": "python",
   "pygments_lexer": "ipython2",
   "version": "2.7.6"
  }
 },
 "nbformat": 4,
 "nbformat_minor": 0
}
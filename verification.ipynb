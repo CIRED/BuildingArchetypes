{
 "cells": [
  {
   "cell_type": "code",
   "execution_count": 1,
   "outputs": [],
   "source": [
    "import pandas as pd"
   ],
   "metadata": {
    "collapsed": false,
    "pycharm": {
     "name": "#%%\n"
    }
   }
  },
  {
   "cell_type": "markdown",
   "source": [
    "# Export from ADEME DPE Database"
   ],
   "metadata": {
    "collapsed": false,
    "pycharm": {
     "name": "#%% md\n"
    }
   }
  },
  {
   "cell_type": "code",
   "execution_count": 3,
   "outputs": [
    {
     "name": "stdout",
     "output_type": "stream",
     "text": [
      "1532140\n",
      "<class 'pandas.core.frame.DataFrame'>\n",
      "Int64Index: 1448763 entries, 35 to 5419824\n",
      "Data columns (total 26 columns):\n",
      " #   Column                            Non-Null Count    Dtype   \n",
      "---  ------                            --------------    -----   \n",
      " 0   td001_dpe_id                      1448763 non-null  int64   \n",
      " 1   construction_year_class           1448763 non-null  category\n",
      " 2   residential_type                  1448763 non-null  category\n",
      " 3   wall_u_value                      1448763 non-null  category\n",
      " 4   roof_u_value                      1448763 non-null  category\n",
      " 5   floor_u_value                     1448763 non-null  category\n",
      " 6   wall_window_share                 1448763 non-null  category\n",
      " 7   wall_window_u_value               1448763 non-null  category\n",
      " 8   wall_window_solar_factor          1448763 non-null  category\n",
      " 9   roof_window_share                 1448763 non-null  category\n",
      " 10  roof_window_u_value               1448763 non-null  category\n",
      " 11  roof_window_solar_factor          1448763 non-null  category\n",
      " 12  main_heating_system_efficiency    1448763 non-null  category\n",
      " 13  main_heating_energy               1448763 non-null  category\n",
      " 14  backup_heating_system_efficiency  1448763 non-null  category\n",
      " 15  air_change_rate                   1448763 non-null  category\n",
      " 16  backup_heating_energy             1448763 non-null  category\n",
      " 17  backup_heating_share              1448763 non-null  category\n",
      " 18  dhw_energy                        1448763 non-null  object  \n",
      " 19  district                          1448763 non-null  category\n",
      " 20  heating_system                    1448763 non-null  category\n",
      " 21  city                              1448763 non-null  category\n",
      " 22  city_name                         1448763 non-null  category\n",
      " 23  department                        1448763 non-null  category\n",
      " 24  city_group                        1404006 non-null  category\n",
      " 25  region                            1448763 non-null  category\n",
      "dtypes: category(24), int64(1), object(1)\n",
      "memory usage: 78.4+ MB\n"
     ]
    }
   ],
   "source": [
    "df = pd.read_hdf('district_level_diagnosis_data_latest.hdf')\n",
    "df.set_index('td001_dpe_id', drop=False, inplace=True)\n",
    "print(df.shape[0])\n",
    "df.drop_duplicates('td001_dpe_id', inplace=True)\n",
    "df.info()"
   ],
   "metadata": {
    "collapsed": false,
    "pycharm": {
     "name": "#%%\n"
    }
   }
  },
  {
   "cell_type": "markdown",
   "source": [
    "### Test cohérence des données"
   ],
   "metadata": {
    "collapsed": false,
    "pycharm": {
     "name": "#%% md\n"
    }
   }
  },
  {
   "cell_type": "code",
   "execution_count": 6,
   "outputs": [
    {
     "name": "stdout",
     "output_type": "stream",
     "text": [
      "<class 'pandas.core.frame.DataFrame'>\n",
      "Int64Index: 97964 entries, 178 to 9431386\n",
      "Data columns (total 67 columns):\n",
      " #   Column                                          Non-Null Count  Dtype  \n",
      "---  ------                                          --------------  -----  \n",
      " 0   id                                              97964 non-null  int64  \n",
      " 1   numero_dpe                                      97964 non-null  object \n",
      " 2   usr_diagnostiqueur_id                           97964 non-null  int64  \n",
      " 3   usr_logiciel_id                                 97964 non-null  int64  \n",
      " 4   tr001_modele_dpe_id                             97964 non-null  int64  \n",
      " 5   nom_methode_dpe                                 97964 non-null  object \n",
      " 6   version_methode_dpe                             80447 non-null  object \n",
      " 7   nom_methode_etude_thermique                     14186 non-null  object \n",
      " 8   version_methode_etude_thermique                 14053 non-null  object \n",
      " 9   date_visite_diagnostiqueur                      97964 non-null  object \n",
      " 10  date_etablissement_dpe                          97964 non-null  object \n",
      " 11  date_arrete_tarifs_energies                     97964 non-null  object \n",
      " 12  commentaires_ameliorations_recommandations      18300 non-null  object \n",
      " 13  explication_personnalisee                       18734 non-null  object \n",
      " 14  consommation_energie                            97964 non-null  float64\n",
      " 15  classe_consommation_energie                     97964 non-null  object \n",
      " 16  estimation_ges                                  97964 non-null  float64\n",
      " 17  classe_estimation_ges                           97964 non-null  object \n",
      " 18  tr002_type_batiment_id                          97964 non-null  int64  \n",
      " 19  secteur_activite                                13008 non-null  object \n",
      " 20  tr012_categorie_erp_id                          2687 non-null   float64\n",
      " 21  tr013_type_erp_id                               5149 non-null   float64\n",
      " 22  annee_construction                              97964 non-null  int64  \n",
      " 23  surface_habitable                               97892 non-null  float64\n",
      " 24  surface_thermique_lot                           97892 non-null  float64\n",
      " 25  tv016_departement_id                            97964 non-null  int64  \n",
      " 26  commune                                         97887 non-null  object \n",
      " 27  arrondissement                                  36083 non-null  object \n",
      " 28  type_voie                                       18148 non-null  object \n",
      " 29  nom_rue                                         97902 non-null  object \n",
      " 30  numero_rue                                      26592 non-null  object \n",
      " 31  batiment                                        13066 non-null  object \n",
      " 32  escalier                                        18786 non-null  object \n",
      " 33  etage                                           17585 non-null  object \n",
      " 34  porte                                           4843 non-null   object \n",
      " 35  code_postal                                     97889 non-null  object \n",
      " 36  code_insee_commune                              97889 non-null  object \n",
      " 37  code_insee_commune_actualise                    97889 non-null  object \n",
      " 38  numero_lot                                      36676 non-null  object \n",
      " 39  surface_commerciale_contractuelle               20980 non-null  object \n",
      " 40  portee_dpe_batiment                             84702 non-null  float64\n",
      " 41  partie_batiment                                 1011 non-null   object \n",
      " 42  shon                                            83524 non-null  float64\n",
      " 43  surface_utile                                   84702 non-null  float64\n",
      " 44  surface_thermique_parties_communes              84702 non-null  float64\n",
      " 45  en_souterrain                                   83522 non-null  float64\n",
      " 46  en_surface                                      83522 non-null  float64\n",
      " 47  nombre_niveaux                                  84702 non-null  float64\n",
      " 48  nombre_circulations_verticales                  83522 non-null  float64\n",
      " 49  nombre_boutiques                                83522 non-null  float64\n",
      " 50  presence_verriere                               84702 non-null  float64\n",
      " 51  surface_verriere                                83522 non-null  float64\n",
      " 52  type_vitrage_verriere                           0 non-null      float64\n",
      " 53  nombre_entrees_avec_sas                         83522 non-null  float64\n",
      " 54  nombre_entrees_sans_sas                         83522 non-null  float64\n",
      " 55  surface_baies_orientees_nord                    84089 non-null  float64\n",
      " 56  surface_baies_orientees_est_ouest               84089 non-null  float64\n",
      " 57  surface_baies_orientees_sud                     84089 non-null  float64\n",
      " 58  surface_planchers_hauts_deperditifs             84089 non-null  float64\n",
      " 59  surface_planchers_bas_deperditifs               84089 non-null  float64\n",
      " 60  surface_parois_verticales_opaques_deperditives  84089 non-null  float64\n",
      " 61  etat_avancement                                 97964 non-null  int64  \n",
      " 62  organisme_certificateur                         97852 non-null  object \n",
      " 63  adresse_organisme_certificateur                 96323 non-null  object \n",
      " 64  dpe_vierge                                      95591 non-null  float64\n",
      " 65  est_efface                                      97964 non-null  int64  \n",
      " 66  date_reception_dpe                              97964 non-null  object \n",
      "dtypes: float64(27), int64(9), object(31)\n",
      "memory usage: 50.8+ MB\n"
     ]
    }
   ],
   "source": [
    "test_export_dpe = pd.read_csv('td001_dpe-clean.csv', low_memory=False)\n",
    "test_export_dpe.set_index('id', drop=False, inplace=True)\n",
    "test_export_dpe.info()"
   ],
   "metadata": {
    "collapsed": false,
    "pycharm": {
     "name": "#%%\n"
    }
   }
  },
  {
   "cell_type": "code",
   "execution_count": 7,
   "outputs": [
    {
     "data": {
      "text/plain": "(16855,)"
     },
     "execution_count": 7,
     "metadata": {},
     "output_type": "execute_result"
    }
   ],
   "source": [
    "idx = df.index.intersection(test_export_dpe.index)\n",
    "idx.shape"
   ],
   "metadata": {
    "collapsed": false,
    "pycharm": {
     "name": "#%%\n"
    }
   }
  },
  {
   "cell_type": "code",
   "execution_count": 8,
   "outputs": [
    {
     "data": {
      "text/plain": "        id  annee_construction                    secteur_activite  \\\n178    178                5200                 Maison Individuelle   \n390    390                   1                 Maison Individuelle   \n1017  1017                1972                 Maison Individuelle   \n1302  1302                1947                 Maison Individuelle   \n1361  1361                1947                 Maison Individuelle   \n1628  1628                1948                 Maison Individuelle   \n1658  1658                1983                         Appartement   \n2243  2243                1980                                 NaN   \n2761  2761                1995  Habitation (Maisons individuelles)   \n2779  2779                2006                 Maison Individuelle   \n\n                    commune  \n178   SAINT-MARTIN-DU-FRÊNE  \n390                  PONCIN  \n1017                OYONNAX  \n1302               HOTONNES  \n1361                ÉVOSGES  \n1628              CORCELLES  \n1658               HOTONNES  \n2243        BOURG-EN-BRESSE  \n2761           Géovreissiat  \n2779                  CESSY  ",
      "text/html": "<div>\n<style scoped>\n    .dataframe tbody tr th:only-of-type {\n        vertical-align: middle;\n    }\n\n    .dataframe tbody tr th {\n        vertical-align: top;\n    }\n\n    .dataframe thead th {\n        text-align: right;\n    }\n</style>\n<table border=\"1\" class=\"dataframe\">\n  <thead>\n    <tr style=\"text-align: right;\">\n      <th></th>\n      <th>id</th>\n      <th>annee_construction</th>\n      <th>secteur_activite</th>\n      <th>commune</th>\n    </tr>\n  </thead>\n  <tbody>\n    <tr>\n      <th>178</th>\n      <td>178</td>\n      <td>5200</td>\n      <td>Maison Individuelle</td>\n      <td>SAINT-MARTIN-DU-FRÊNE</td>\n    </tr>\n    <tr>\n      <th>390</th>\n      <td>390</td>\n      <td>1</td>\n      <td>Maison Individuelle</td>\n      <td>PONCIN</td>\n    </tr>\n    <tr>\n      <th>1017</th>\n      <td>1017</td>\n      <td>1972</td>\n      <td>Maison Individuelle</td>\n      <td>OYONNAX</td>\n    </tr>\n    <tr>\n      <th>1302</th>\n      <td>1302</td>\n      <td>1947</td>\n      <td>Maison Individuelle</td>\n      <td>HOTONNES</td>\n    </tr>\n    <tr>\n      <th>1361</th>\n      <td>1361</td>\n      <td>1947</td>\n      <td>Maison Individuelle</td>\n      <td>ÉVOSGES</td>\n    </tr>\n    <tr>\n      <th>1628</th>\n      <td>1628</td>\n      <td>1948</td>\n      <td>Maison Individuelle</td>\n      <td>CORCELLES</td>\n    </tr>\n    <tr>\n      <th>1658</th>\n      <td>1658</td>\n      <td>1983</td>\n      <td>Appartement</td>\n      <td>HOTONNES</td>\n    </tr>\n    <tr>\n      <th>2243</th>\n      <td>2243</td>\n      <td>1980</td>\n      <td>NaN</td>\n      <td>BOURG-EN-BRESSE</td>\n    </tr>\n    <tr>\n      <th>2761</th>\n      <td>2761</td>\n      <td>1995</td>\n      <td>Habitation (Maisons individuelles)</td>\n      <td>Géovreissiat</td>\n    </tr>\n    <tr>\n      <th>2779</th>\n      <td>2779</td>\n      <td>2006</td>\n      <td>Maison Individuelle</td>\n      <td>CESSY</td>\n    </tr>\n  </tbody>\n</table>\n</div>"
     },
     "execution_count": 8,
     "metadata": {},
     "output_type": "execute_result"
    }
   ],
   "source": [
    "vars_intersect_test = ['id', 'annee_construction', 'secteur_activite', 'commune']\n",
    "test_export_dpe.loc[idx[:10], vars_intersect_test].head(40)"
   ],
   "metadata": {
    "collapsed": false,
    "pycharm": {
     "name": "#%%\n"
    }
   }
  },
  {
   "cell_type": "code",
   "execution_count": 9,
   "outputs": [
    {
     "data": {
      "text/plain": "      td001_dpe_id construction_year_class residential_type  \\\n178            178            [1946, 1970]            house   \n390            390            [1946, 1970]            house   \n1017          1017            [1971, 1990]            house   \n1302          1302            [1991, 2005]        apartment   \n1361          1361            [1971, 1990]            house   \n1628          1628            [1991, 2005]            house   \n1658          1658            [1991, 2005]            house   \n2243          2243            [1000, 1918]            house   \n2761          2761            [1971, 1990]            house   \n2779          2779            [1971, 1990]            house   \n\n                 city_name  \n178               Varambon  \n390   Villieu-Loyes-Mollon  \n1017    Cheignieu-la-Balme  \n1302         Le Montellier  \n1361      Mantenay-Montlin  \n1628              Colomieu  \n1658         Le Montellier  \n2243       Bourg-en-Bresse  \n2761                 Brion  \n2779    Béard-Géovreissiat  ",
      "text/html": "<div>\n<style scoped>\n    .dataframe tbody tr th:only-of-type {\n        vertical-align: middle;\n    }\n\n    .dataframe tbody tr th {\n        vertical-align: top;\n    }\n\n    .dataframe thead th {\n        text-align: right;\n    }\n</style>\n<table border=\"1\" class=\"dataframe\">\n  <thead>\n    <tr style=\"text-align: right;\">\n      <th></th>\n      <th>td001_dpe_id</th>\n      <th>construction_year_class</th>\n      <th>residential_type</th>\n      <th>city_name</th>\n    </tr>\n  </thead>\n  <tbody>\n    <tr>\n      <th>178</th>\n      <td>178</td>\n      <td>[1946, 1970]</td>\n      <td>house</td>\n      <td>Varambon</td>\n    </tr>\n    <tr>\n      <th>390</th>\n      <td>390</td>\n      <td>[1946, 1970]</td>\n      <td>house</td>\n      <td>Villieu-Loyes-Mollon</td>\n    </tr>\n    <tr>\n      <th>1017</th>\n      <td>1017</td>\n      <td>[1971, 1990]</td>\n      <td>house</td>\n      <td>Cheignieu-la-Balme</td>\n    </tr>\n    <tr>\n      <th>1302</th>\n      <td>1302</td>\n      <td>[1991, 2005]</td>\n      <td>apartment</td>\n      <td>Le Montellier</td>\n    </tr>\n    <tr>\n      <th>1361</th>\n      <td>1361</td>\n      <td>[1971, 1990]</td>\n      <td>house</td>\n      <td>Mantenay-Montlin</td>\n    </tr>\n    <tr>\n      <th>1628</th>\n      <td>1628</td>\n      <td>[1991, 2005]</td>\n      <td>house</td>\n      <td>Colomieu</td>\n    </tr>\n    <tr>\n      <th>1658</th>\n      <td>1658</td>\n      <td>[1991, 2005]</td>\n      <td>house</td>\n      <td>Le Montellier</td>\n    </tr>\n    <tr>\n      <th>2243</th>\n      <td>2243</td>\n      <td>[1000, 1918]</td>\n      <td>house</td>\n      <td>Bourg-en-Bresse</td>\n    </tr>\n    <tr>\n      <th>2761</th>\n      <td>2761</td>\n      <td>[1971, 1990]</td>\n      <td>house</td>\n      <td>Brion</td>\n    </tr>\n    <tr>\n      <th>2779</th>\n      <td>2779</td>\n      <td>[1971, 1990]</td>\n      <td>house</td>\n      <td>Béard-Géovreissiat</td>\n    </tr>\n  </tbody>\n</table>\n</div>"
     },
     "execution_count": 9,
     "metadata": {},
     "output_type": "execute_result"
    }
   ],
   "source": [
    "vars_intersect = ['td001_dpe_id', 'construction_year_class', 'residential_type', 'city_name']\n",
    "df.loc[idx[:10], vars_intersect]"
   ],
   "metadata": {
    "collapsed": false,
    "pycharm": {
     "name": "#%%\n"
    }
   }
  }
 ],
 "metadata": {
  "kernelspec": {
   "display_name": "Python 3",
   "language": "python",
   "name": "python3"
  },
  "language_info": {
   "codemirror_mode": {
    "name": "ipython",
    "version": 2
   },
   "file_extension": ".py",
   "mimetype": "text/x-python",
   "name": "python",
   "nbconvert_exporter": "python",
   "pygments_lexer": "ipython2",
   "version": "2.7.6"
  }
 },
 "nbformat": 4,
 "nbformat_minor": 0
}